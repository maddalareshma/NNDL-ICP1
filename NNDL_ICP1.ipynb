{
 "cells": [
  {
   "cell_type": "code",
   "execution_count": 1,
   "id": "d21c8087",
   "metadata": {},
   "outputs": [
    {
     "name": "stdout",
     "output_type": "stream",
     "text": [
      "Classification Report: \n",
      "               precision    recall  f1-score   support\n",
      "\n",
      "           1       0.19      0.44      0.27         9\n",
      "           2       0.33      0.16      0.21        19\n",
      "           3       0.33      0.20      0.25         5\n",
      "           5       0.00      0.00      0.00         2\n",
      "           6       0.67      1.00      0.80         2\n",
      "           7       1.00      1.00      1.00         6\n",
      "\n",
      "    accuracy                           0.37        43\n",
      "   macro avg       0.42      0.47      0.42        43\n",
      "weighted avg       0.40      0.37      0.36        43\n",
      "\n",
      "Naive Bayes accuracy is:  37.2093023255814\n"
     ]
    }
   ],
   "source": [
    "import pandas as pd\n",
    "import numpy as np \n",
    "#1.Implement Naïve Bayes method using scikit-learn library \n",
    "# Use dataset available with name glass \n",
    "# Use train_test_split to create training and testing part \n",
    "# Evaluate the model on test part using score and \n",
    "# classification_report(y_true, y_pred)\n",
    "\n",
    "\n",
    "from sklearn.model_selection import train_test_split\n",
    "from sklearn.naive_bayes import GaussianNB\n",
    "from sklearn.metrics import classification_report, accuracy_score\n",
    "\n",
    "\n",
    "df = pd.read_csv('C:/Users/reshm/Downloads/NNDL/glass.csv')\n",
    "\n",
    "x_train = df.drop(\"Type\", axis=1)\n",
    "y_train = df['Type']\n",
    "\n",
    "\n",
    "x_train, x_test, y_train, y_test = train_test_split(x_train, y_train, test_size=0.2, random_state=0)\n",
    "\n",
    "# Train the model using the training sets\n",
    "gnb = GaussianNB()\n",
    "gnb.fit(x_train, y_train)\n",
    "\n",
    "\n",
    "y_pred = gnb.predict(x_test)\n",
    "# Classification report \n",
    "print(\"Classification Report: \\n\", classification_report(y_test, y_pred))\n",
    "#Accuracy\n",
    "print(\"Naive Bayes accuracy is: \",  (accuracy_score(y_test, y_pred))*100)"
   ]
  },
  {
   "cell_type": "code",
   "execution_count": 2,
   "id": "0d571d9d",
   "metadata": {},
   "outputs": [
    {
     "name": "stdout",
     "output_type": "stream",
     "text": [
      "Classification Report: \n",
      "               precision    recall  f1-score   support\n",
      "\n",
      "           1       0.21      1.00      0.35         9\n",
      "           2       0.00      0.00      0.00        19\n",
      "           3       0.00      0.00      0.00         5\n",
      "           5       0.00      0.00      0.00         2\n",
      "           6       0.00      0.00      0.00         2\n",
      "           7       0.00      0.00      0.00         6\n",
      "\n",
      "    accuracy                           0.21        43\n",
      "   macro avg       0.03      0.17      0.06        43\n",
      "weighted avg       0.04      0.21      0.07        43\n",
      "\n",
      "SVM accuracy is:  20.930232558139537\n"
     ]
    }
   ],
   "source": [
    "#2.Implement linear SVM method using scikit-learn \n",
    "# Use the same dataset above\n",
    "# Use train_test_split to create training and testing part\n",
    "# Evaluate the model on test part using score and \n",
    "# classification_report(y_true, y_pred)\n",
    "\n",
    "import pandas as pd\n",
    "from sklearn.model_selection import train_test_split\n",
    "from sklearn.svm import SVC\n",
    "from sklearn.metrics import classification_report, accuracy_score\n",
    "\n",
    "\n",
    "df2 = pd.read_csv('C:/Users/reshm/Downloads/NNDL/glass.csv')\n",
    "\n",
    "x_train = df2.drop(\"Type\", axis=1)\n",
    "y_train = df2['Type']\n",
    "# splitting train and test data using train_test_split\n",
    "x_train, x_test, y_train, y_test = train_test_split(x_train, y_train, test_size=0.2, random_state=0)\n",
    "\n",
    "# Train the model using the training sets\n",
    "svc = SVC()\n",
    "svc.fit(x_train, y_train)\n",
    "y_pred = svc.predict(x_test)\n",
    "# Classification report \n",
    "print(\"Classification Report: \\n\", classification_report(y_test, y_pred,zero_division = 0))\n",
    "#Accuracy\n",
    "print(\"SVM accuracy is: \", accuracy_score(y_test, y_pred)*100)\n"
   ]
  },
  {
   "cell_type": "code",
   "execution_count": 3,
   "id": "9eaf0395",
   "metadata": {},
   "outputs": [
    {
     "name": "stdout",
     "output_type": "stream",
     "text": [
      "<class 'pandas.core.frame.DataFrame'>\n",
      "RangeIndex: 30 entries, 0 to 29\n",
      "Data columns (total 2 columns):\n",
      " #   Column           Non-Null Count  Dtype  \n",
      "---  ------           --------------  -----  \n",
      " 0   YearsExperience  30 non-null     float64\n",
      " 1   Salary           30 non-null     float64\n",
      "dtypes: float64(2)\n",
      "memory usage: 608.0 bytes\n"
     ]
    },
    {
     "data": {
      "text/html": [
       "<div>\n",
       "<style scoped>\n",
       "    .dataframe tbody tr th:only-of-type {\n",
       "        vertical-align: middle;\n",
       "    }\n",
       "\n",
       "    .dataframe tbody tr th {\n",
       "        vertical-align: top;\n",
       "    }\n",
       "\n",
       "    .dataframe thead th {\n",
       "        text-align: right;\n",
       "    }\n",
       "</style>\n",
       "<table border=\"1\" class=\"dataframe\">\n",
       "  <thead>\n",
       "    <tr style=\"text-align: right;\">\n",
       "      <th></th>\n",
       "      <th>YearsExperience</th>\n",
       "      <th>Salary</th>\n",
       "    </tr>\n",
       "  </thead>\n",
       "  <tbody>\n",
       "    <tr>\n",
       "      <th>0</th>\n",
       "      <td>1.1</td>\n",
       "      <td>39343.0</td>\n",
       "    </tr>\n",
       "    <tr>\n",
       "      <th>1</th>\n",
       "      <td>1.3</td>\n",
       "      <td>46205.0</td>\n",
       "    </tr>\n",
       "    <tr>\n",
       "      <th>2</th>\n",
       "      <td>1.5</td>\n",
       "      <td>37731.0</td>\n",
       "    </tr>\n",
       "    <tr>\n",
       "      <th>3</th>\n",
       "      <td>2.0</td>\n",
       "      <td>43525.0</td>\n",
       "    </tr>\n",
       "    <tr>\n",
       "      <th>4</th>\n",
       "      <td>2.2</td>\n",
       "      <td>39891.0</td>\n",
       "    </tr>\n",
       "  </tbody>\n",
       "</table>\n",
       "</div>"
      ],
      "text/plain": [
       "   YearsExperience   Salary\n",
       "0              1.1  39343.0\n",
       "1              1.3  46205.0\n",
       "2              1.5  37731.0\n",
       "3              2.0  43525.0\n",
       "4              2.2  39891.0"
      ]
     },
     "execution_count": 3,
     "metadata": {},
     "output_type": "execute_result"
    }
   ],
   "source": [
    "# 3.Implement Linear Regression using scikit-learn\n",
    "# Import the given “Salary_Data.csv”\n",
    "df3 = pd.read_csv('C:/Users/reshm/Downloads/NNDL/Salary_Data.csv')\n",
    "df3.info()\n",
    "df3.head()"
   ]
  },
  {
   "cell_type": "code",
   "execution_count": 4,
   "id": "1ccef897",
   "metadata": {},
   "outputs": [],
   "source": [
    "d1 = df3.iloc[:, :-1].values   #excluding last column  years of experience column\n",
    "d2 = df3.iloc[:, 1].values     #only salary column"
   ]
  },
  {
   "cell_type": "code",
   "execution_count": 5,
   "id": "c17b7b2b",
   "metadata": {},
   "outputs": [],
   "source": [
    "#  Split the data in train_test partitions, such that 1/3 of the data is reserved as test subset.\n",
    "from sklearn.model_selection import train_test_split \n",
    "d1_train, d1_test, d2_train, d2_test = train_test_split(d1, d2, test_size=1/3, random_state=0)"
   ]
  },
  {
   "cell_type": "code",
   "execution_count": 6,
   "id": "977516c9",
   "metadata": {},
   "outputs": [
    {
     "data": {
      "text/plain": [
       "array([ 40835.10590871, 123079.39940819,  65134.55626083,  63265.36777221,\n",
       "       115602.64545369, 108125.8914992 , 116537.23969801,  64199.96201652,\n",
       "        76349.68719258, 100649.1375447 ])"
      ]
     },
     "execution_count": 6,
     "metadata": {},
     "output_type": "execute_result"
    }
   ],
   "source": [
    "#  Train and predict the model.\n",
    "from sklearn.linear_model import LinearRegression\n",
    "reg = LinearRegression()\n",
    "reg.fit(d1_train, d2_train)\n",
    "d2_Pred = reg.predict(d1_test)\n",
    "d2_Pred"
   ]
  },
  {
   "cell_type": "code",
   "execution_count": 7,
   "id": "4ddcb6dc",
   "metadata": {},
   "outputs": [
    {
     "data": {
      "text/plain": [
       "21026037.329511296"
      ]
     },
     "execution_count": 7,
     "metadata": {},
     "output_type": "execute_result"
    }
   ],
   "source": [
    "#  Calculate the mean_squared error\n",
    "S_error = (d2_Pred - d2_test) ** 2\n",
    "Sum_Serror = np.sum(S_error)\n",
    "mean_squared_error = Sum_Serror / d2_test.size\n",
    "mean_squared_error"
   ]
  },
  {
   "cell_type": "code",
   "execution_count": 8,
   "id": "3a624d1d",
   "metadata": {},
   "outputs": [
    {
     "data": {
      "image/png": "[encoded data removed]",
      "text/plain": [
       "<Figure size 640x480 with 1 Axes>"
      ]
     },
     "metadata": {},
     "output_type": "display_data"
    },
    {
     "data": {
      "image/png": "[encoded data removed]",
      "text/plain": [
       "<Figure size 640x480 with 1 Axes>"
      ]
     },
     "metadata": {},
     "output_type": "display_data"
    }
   ],
   "source": [
    "#  Visualize both train and test data using scatter plot.\n",
    "import matplotlib.pyplot as plt\n",
    "# Training Data set\n",
    "plt.scatter(d1_train, d2_train)\n",
    "plt.plot(d1_train, reg.predict(d1_train))\n",
    "plt.title('Training Set')\n",
    "plt.show()\n",
    "\n",
    "# Testing Data set\n",
    "plt.scatter(d1_test, d2_test)\n",
    "plt.plot(d1_test, reg.predict(d1_test))\n",
    "plt.title('Testing Set')\n",
    "plt.show()"
   ]
  },
  {
   "cell_type": "code",
   "execution_count": null,
   "id": "4c1ce9ea",
   "metadata": {},
   "outputs": [],
   "source": []
  }
 ],
 "metadata": {
  "kernelspec": {
   "display_name": "Python 3 (ipykernel)",
   "language": "python",
   "name": "python3"
  },
  "language_info": {
   "codemirror_mode": {
    "name": "ipython",
    "version": 3
   },
   "file_extension": ".py",
   "mimetype": "text/x-python",
   "name": "python",
   "nbconvert_exporter": "python",
   "pygments_lexer": "ipython3",
   "version": "3.10.9"
  }
 },
 "nbformat": 4,
 "nbformat_minor": 5
}
